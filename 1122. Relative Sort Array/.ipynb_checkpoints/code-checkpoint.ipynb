{
 "cells": [
  {
   "cell_type": "code",
   "execution_count": 1,
   "id": "38102db8-f330-45fc-8874-565bb9562840",
   "metadata": {},
   "outputs": [
    {
     "ename": "NameError",
     "evalue": "name 'List' is not defined",
     "output_type": "error",
     "traceback": [
      "\u001b[1;31m---------------------------------------------------------------------------\u001b[0m",
      "\u001b[1;31mNameError\u001b[0m                                 Traceback (most recent call last)",
      "Cell \u001b[1;32mIn[1], line 1\u001b[0m\n\u001b[1;32m----> 1\u001b[0m \u001b[38;5;28;43;01mclass\u001b[39;49;00m\u001b[43m \u001b[49m\u001b[38;5;21;43;01mSolution\u001b[39;49;00m\u001b[43m:\u001b[49m\n\u001b[0;32m      2\u001b[0m \u001b[43m    \u001b[49m\u001b[38;5;28;43;01mdef\u001b[39;49;00m\u001b[43m \u001b[49m\u001b[38;5;21;43mrelativeSortArray\u001b[39;49m\u001b[43m(\u001b[49m\u001b[38;5;28;43mself\u001b[39;49m\u001b[43m,\u001b[49m\u001b[43m \u001b[49m\u001b[43marr1\u001b[49m\u001b[43m:\u001b[49m\u001b[43m \u001b[49m\u001b[43mList\u001b[49m\u001b[43m[\u001b[49m\u001b[38;5;28;43mint\u001b[39;49m\u001b[43m]\u001b[49m\u001b[43m,\u001b[49m\u001b[43m \u001b[49m\u001b[43marr2\u001b[49m\u001b[43m:\u001b[49m\u001b[43m \u001b[49m\u001b[43mList\u001b[49m\u001b[43m[\u001b[49m\u001b[38;5;28;43mint\u001b[39;49m\u001b[43m]\u001b[49m\u001b[43m)\u001b[49m\u001b[43m \u001b[49m\u001b[38;5;241;43m-\u001b[39;49m\u001b[38;5;241;43m>\u001b[39;49m\u001b[43m \u001b[49m\u001b[43mList\u001b[49m\u001b[43m[\u001b[49m\u001b[38;5;28;43mint\u001b[39;49m\u001b[43m]\u001b[49m\u001b[43m:\u001b[49m\n\u001b[0;32m      3\u001b[0m \u001b[43m        \u001b[49m\u001b[43marr2_set\u001b[49m\u001b[43m \u001b[49m\u001b[38;5;241;43m=\u001b[39;49m\u001b[43m \u001b[49m\u001b[38;5;28;43mset\u001b[39;49m\u001b[43m(\u001b[49m\u001b[43marr2\u001b[49m\u001b[43m)\u001b[49m\u001b[43m  \u001b[49m\u001b[38;5;66;43;03m#Converts arr2 to a set for faster lookup operations.\u001b[39;49;00m\n",
      "Cell \u001b[1;32mIn[1], line 2\u001b[0m, in \u001b[0;36mSolution\u001b[1;34m()\u001b[0m\n\u001b[0;32m      1\u001b[0m \u001b[38;5;28;01mclass\u001b[39;00m \u001b[38;5;21;01mSolution\u001b[39;00m:\n\u001b[1;32m----> 2\u001b[0m     \u001b[38;5;28;01mdef\u001b[39;00m \u001b[38;5;21mrelativeSortArray\u001b[39m(\u001b[38;5;28mself\u001b[39m, arr1: \u001b[43mList\u001b[49m[\u001b[38;5;28mint\u001b[39m], arr2: List[\u001b[38;5;28mint\u001b[39m]) \u001b[38;5;241m-\u001b[39m\u001b[38;5;241m>\u001b[39m List[\u001b[38;5;28mint\u001b[39m]:\n\u001b[0;32m      3\u001b[0m         arr2_set \u001b[38;5;241m=\u001b[39m \u001b[38;5;28mset\u001b[39m(arr2)  \u001b[38;5;66;03m#Converts arr2 to a set for faster lookup operations.\u001b[39;00m\n\u001b[0;32m      4\u001b[0m         arr1_count \u001b[38;5;241m=\u001b[39m defaultdict(\u001b[38;5;28mint\u001b[39m) \u001b[38;5;66;03m# arr1_count: A defaultdict to count the occurrences of each element in arr1.\u001b[39;00m\n",
      "\u001b[1;31mNameError\u001b[0m: name 'List' is not defined"
     ]
    }
   ],
   "source": [
    "def relativeSortArray(self, arr1: List[int], arr2: List[int) -> List[int]:\n",
    "        arr2_set = set(arr2)  #Converts arr2 to a set for faster lookup operations.\n",
    "        arr1_count = defaultdict(int) # arr1_count: A defaultdict to count the occurrences of each element in arr1.\n",
    "        end = [] # for those that does not exist in arr2\n",
    "        res = [] # A list to store the sorted result as per the order defined by arr2.\n",
    "\n",
    "        for n in arr1:\n",
    "            if n not in arr2_set:\n",
    "                end.append(n)\n",
    "            arr1_count[n] +=1\n",
    "        end.sort()\n",
    "\n",
    "        for n in arr2:\n",
    "            for _ in range(arr1_count[n]):\n",
    "                res.append(n)\n",
    "        return res + end"
   ]
  }
 ],
 "metadata": {
  "kernelspec": {
   "display_name": "Python 3 (ipykernel)",
   "language": "python",
   "name": "python3"
  },
  "language_info": {
   "codemirror_mode": {
    "name": "ipython",
    "version": 3
   },
   "file_extension": ".py",
   "mimetype": "text/x-python",
   "name": "python",
   "nbconvert_exporter": "python",
   "pygments_lexer": "ipython3",
   "version": "3.12.3"
  }
 },
 "nbformat": 4,
 "nbformat_minor": 5
}
