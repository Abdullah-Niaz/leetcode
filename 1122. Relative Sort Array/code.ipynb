{
 "cells": [
  {
   "cell_type": "code",
   "execution_count": 12,
   "id": "38102db8-f330-45fc-8874-565bb9562840",
   "metadata": {},
   "outputs": [
    {
     "name": "stdout",
     "output_type": "stream",
     "text": [
      "[2, 2, 2, 1, 4, 3, 3, 9, 6, 7, 19]\n",
      "[22, 28, 8, 6, 17, 44]\n"
     ]
    }
   ],
   "source": [
    "from collections import defaultdict\n",
    "def relativeSortArray(arr1, arr2):\n",
    "    arr2_set = set(arr2)  #Converts arr2 to a set for faster lookup operations.\n",
    "    arr1_count = defaultdict(int) # arr1_count: A defaultdict to count the occurrences of each element in arr1.\n",
    "    end = [] # for those that does not exist in arr2\n",
    "    res = [] # A list to store the sorted result as per the order defined by arr2.\n",
    "\n",
    "    for n in arr1:\n",
    "        if n not in arr2_set:\n",
    "            end.append(n)    \n",
    "        arr1_count[n] +=1\n",
    "    end.sort()\n",
    "\n",
    "    for n in arr2:\n",
    "        for _ in range(arr1_count[n]):\n",
    "            res.append(n)\n",
    "    return res + end\n",
    "\n",
    "\n",
    "arr1 = [2,3,1,3,2,4,6,7,9,2,19]\n",
    "arr2 = [2,1,4,3,9,6]\n",
    "print(relativeSortArray(arr1,arr2))\n",
    "\n",
    "arr1 = [28,6,22,8,44,17]\n",
    "arr2 = [22,28,8,6]\n",
    "print(relativeSortArray(arr1,arr2))"
   ]
  }
 ],
 "metadata": {
  "kernelspec": {
   "display_name": "Python 3 (ipykernel)",
   "language": "python",
   "name": "python3"
  },
  "language_info": {
   "codemirror_mode": {
    "name": "ipython",
    "version": 3
   },
   "file_extension": ".py",
   "mimetype": "text/x-python",
   "name": "python",
   "nbconvert_exporter": "python",
   "pygments_lexer": "ipython3",
   "version": "3.12.3"
  }
 },
 "nbformat": 4,
 "nbformat_minor": 5
}
